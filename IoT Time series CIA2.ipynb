{
 "cells": [
  {
   "cell_type": "code",
   "execution_count": 1,
   "id": "4678ffaa",
   "metadata": {},
   "outputs": [],
   "source": [
    "# Import Required Python Packages :\n",
    "\n",
    "import numpy as np\n",
    "import pandas as pd\n",
    "\n",
    "import matplotlib.pyplot as plt\n",
    "get_ipython().run_line_magic('matplotlib', 'inline')\n",
    "from sklearn.preprocessing import *\n",
    "from sklearn.model_selection import *\n",
    "from sklearn.metrics import *\n",
    "\n",
    "import gc\n",
    "from sklearn.model_selection import train_test_split\n",
    "from sklearn.metrics import mean_squared_error\n",
    "from sklearn.tree import DecisionTreeClassifier\n",
    "from xgboost import XGBRegressor\n",
    "from catboost import CatBoostRegressor\n",
    "from lightgbm import LGBMRegressor\n",
    "from sklearn.ensemble import ExtraTreesClassifier, VotingClassifier\n",
    "\n",
    "# Date & Time Libraries :\n",
    "from datetime import datetime\n",
    "import time\n",
    "\n",
    "np.random.seed(0)"
   ]
  },
  {
   "cell_type": "code",
   "execution_count": 2,
   "id": "73e5e5d4",
   "metadata": {},
   "outputs": [],
   "source": [
    "train = pd.read_csv('train_ML_IOT.csv')\n",
    "test = pd.read_csv('test_ML_IOT.csv')\n",
    "ss = pd.read_csv('sample_submission_ML_IOT.csv')"
   ]
  },
  {
   "cell_type": "code",
   "execution_count": 3,
   "id": "1ea3fbe5",
   "metadata": {},
   "outputs": [],
   "source": [
    "# Dropping \"ID\" Columns in Train and Test :\n",
    "\n",
    "train.drop([\"ID\"],axis = 1,inplace=True)\n",
    "test_ID = test[\"ID\"]\n",
    "test.drop([\"ID\"],axis = 1,inplace=True)"
   ]
  },
  {
   "cell_type": "code",
   "execution_count": 4,
   "id": "ab7918f0",
   "metadata": {},
   "outputs": [],
   "source": [
    "def datetounix1(df):\n",
    "    # Initialising unixtime list\n",
    "    unixtime = []\n",
    "    \n",
    "    # Running a loop for converting Date to seconds\n",
    "    for date in df['DateTime']:\n",
    "        unixtime.append(time.mktime(date.timetuple()))\n",
    "    \n",
    "    # Replacing Date with unixtime list\n",
    "    df['DateTime'] = unixtime\n",
    "    return(df)"
   ]
  },
  {
   "cell_type": "code",
   "execution_count": 5,
   "id": "0c177d77",
   "metadata": {},
   "outputs": [
    {
     "name": "stdout",
     "output_type": "stream",
     "text": [
      "<class 'pandas.core.frame.DataFrame'>\n",
      "RangeIndex: 11808 entries, 0 to 11807\n",
      "Data columns (total 2 columns):\n",
      " #   Column    Non-Null Count  Dtype         \n",
      "---  ------    --------------  -----         \n",
      " 0   DateTime  11808 non-null  datetime64[ns]\n",
      " 1   Junction  11808 non-null  int64         \n",
      "dtypes: datetime64[ns](1), int64(1)\n",
      "memory usage: 184.6 KB\n"
     ]
    }
   ],
   "source": [
    "# Converting to datetime :\n",
    "train['DateTime'] = pd.to_datetime(train['DateTime'])\n",
    "test['DateTime'] = pd.to_datetime(test['DateTime'])\n",
    "test.info()"
   ]
  },
  {
   "cell_type": "code",
   "execution_count": 6,
   "id": "02247d51",
   "metadata": {},
   "outputs": [],
   "source": [
    "# Creating features from DateTime for train data\n",
    "\n",
    "train['Weekday'] = [datetime.weekday(date) for date in train.DateTime]\n",
    "train['Day'] = [date.day for date in train.DateTime]\n",
    "train['Time'] = [((date.hour*60+(date.minute))*60)+date.second for date in train.DateTime]\n",
    "train['Week'] = [date.week for date in train.DateTime]\n",
    "\n",
    "# Creating features from DateTime for test data\n",
    "test['Weekday'] = [datetime.weekday(date) for date in test.DateTime]\n",
    "test['Day'] = [date.day for date in test.DateTime]\n",
    "test['Time'] = [((date.hour*60+(date.minute))*60)+date.second for date in test.DateTime]\n",
    "test['Week'] = [date.week for date in test.DateTime]"
   ]
  },
  {
   "cell_type": "code",
   "execution_count": 7,
   "id": "9d2610da",
   "metadata": {},
   "outputs": [
    {
     "name": "stdout",
     "output_type": "stream",
     "text": [
      "---------------------------------------- \n",
      "\n",
      "X_train.shape :  (32240, 6)\n"
     ]
    },
    {
     "data": {
      "text/plain": [
       "Index(['DateTime', 'Junction', 'Weekday', 'Day', 'Time', 'Week'], dtype='object')"
      ]
     },
     "metadata": {},
     "output_type": "display_data"
    },
    {
     "name": "stdout",
     "output_type": "stream",
     "text": [
      "---------------------------------------- \n",
      "\n",
      "X_test.shape :  (15880, 6)\n"
     ]
    },
    {
     "data": {
      "text/plain": [
       "Index(['DateTime', 'Junction', 'Weekday', 'Day', 'Time', 'Week'], dtype='object')"
      ]
     },
     "metadata": {},
     "output_type": "display_data"
    },
    {
     "name": "stdout",
     "output_type": "stream",
     "text": [
      "---------------------------------------- \n",
      "\n",
      "X_valid.shape :  (11808, 6)\n"
     ]
    },
    {
     "data": {
      "text/plain": [
       "Index(['DateTime', 'Junction', 'Weekday', 'Day', 'Time', 'Week'], dtype='object')"
      ]
     },
     "metadata": {},
     "output_type": "display_data"
    },
    {
     "name": "stdout",
     "output_type": "stream",
     "text": [
      "---------------------------------------- \n",
      "\n"
     ]
    }
   ],
   "source": [
    "train_features = datetounix1(train.drop(['Vehicles'], axis=1))\n",
    "test_features = datetounix1(test)\n",
    "\n",
    "\n",
    "# Store Features / Predictors in array :\n",
    "X = train_features  \n",
    "X_valid = test_features\n",
    "\n",
    "# One Hot Encoding - Using Dummies :\n",
    "X = pd.get_dummies(X)\n",
    "X_valid = pd.get_dummies(X_valid)\n",
    "\n",
    "# Store target 'Vehicles' in y array :\n",
    "y = train['Vehicles'].to_frame()\n",
    "\n",
    "X_train, X_test, y_train, y_test = train_test_split(X, y, test_size=0.33, random_state=512)\n",
    "\n",
    "# X_train from train df\n",
    "print('--'*20 ,'\\n')\n",
    "print(\"X_train.shape : \", X_train.shape)\n",
    "display(X_train.columns)\n",
    "print('--'*20 ,'\\n')\n",
    "# X_test from train df\n",
    "print(\"X_test.shape : \", X_test.shape)\n",
    "display(X_test.columns)\n",
    "print('--'*20 ,'\\n')\n",
    "# X_valid from test df\n",
    "print(\"X_valid.shape : \", X_valid.shape)\n",
    "display(X_valid.columns)\n",
    "print('--'*20 ,'\\n')"
   ]
  },
  {
   "cell_type": "code",
   "execution_count": 8,
   "id": "171987ee",
   "metadata": {},
   "outputs": [
    {
     "name": "stdout",
     "output_type": "stream",
     "text": [
      "The time taken to execute is 0.1308903694152832 seconds\n"
     ]
    }
   ],
   "source": [
    "# Data prep\n",
    "final = pd.DataFrame()\n",
    "final['ID'] = test_ID\n",
    "\n",
    "# Starting time for time calculations\n",
    "start_time = time.time()\n",
    "\n",
    "clf = LGBMRegressor(boosting_type='gbdt',\n",
    "                    max_depth=6,\n",
    "                    learning_rate=0.015, \n",
    "                    n_estimators=80, # BESTTTT !!! Reduced \n",
    "                    reg_alpha=0.0005,\n",
    "                    random_state = 512)\n",
    "\n",
    "# 2. Fit the created Machine Learning Model on \"train\" data - X(Predictors) & y(Target) :\n",
    "clf = clf.fit(X_train, y_train)\n",
    "\n",
    "# 3. Predict the Target \"Vehicles\" for testing data - X_test(Predictors)  :\n",
    "y_hat = clf.predict(X_test)\n",
    "\n",
    "print(\"The time taken to execute is %s seconds\" % (time.time() - start_time))"
   ]
  },
  {
   "cell_type": "code",
   "execution_count": 9,
   "id": "5de44bdc",
   "metadata": {},
   "outputs": [
    {
     "data": {
      "text/plain": [
       "83.31952543311107"
      ]
     },
     "execution_count": 9,
     "metadata": {},
     "output_type": "execute_result"
    }
   ],
   "source": [
    "mean_squared_error(y_test, y_hat)"
   ]
  },
  {
   "cell_type": "code",
   "execution_count": 10,
   "id": "8da08367",
   "metadata": {},
   "outputs": [
    {
     "data": {
      "text/html": [
       "<div>\n",
       "<style scoped>\n",
       "    .dataframe tbody tr th:only-of-type {\n",
       "        vertical-align: middle;\n",
       "    }\n",
       "\n",
       "    .dataframe tbody tr th {\n",
       "        vertical-align: top;\n",
       "    }\n",
       "\n",
       "    .dataframe thead th {\n",
       "        text-align: right;\n",
       "    }\n",
       "</style>\n",
       "<table border=\"1\" class=\"dataframe\">\n",
       "  <thead>\n",
       "    <tr style=\"text-align: right;\">\n",
       "      <th></th>\n",
       "      <th>ID</th>\n",
       "      <th>Vehicles</th>\n",
       "    </tr>\n",
       "  </thead>\n",
       "  <tbody>\n",
       "    <tr>\n",
       "      <th>0</th>\n",
       "      <td>20170701001</td>\n",
       "      <td>48.530574</td>\n",
       "    </tr>\n",
       "    <tr>\n",
       "      <th>1</th>\n",
       "      <td>20170701011</td>\n",
       "      <td>44.994199</td>\n",
       "    </tr>\n",
       "    <tr>\n",
       "      <th>2</th>\n",
       "      <td>20170701021</td>\n",
       "      <td>36.461834</td>\n",
       "    </tr>\n",
       "    <tr>\n",
       "      <th>3</th>\n",
       "      <td>20170701031</td>\n",
       "      <td>30.972165</td>\n",
       "    </tr>\n",
       "    <tr>\n",
       "      <th>4</th>\n",
       "      <td>20170701041</td>\n",
       "      <td>30.972165</td>\n",
       "    </tr>\n",
       "  </tbody>\n",
       "</table>\n",
       "</div>"
      ],
      "text/plain": [
       "            ID   Vehicles\n",
       "0  20170701001  48.530574\n",
       "1  20170701011  44.994199\n",
       "2  20170701021  36.461834\n",
       "3  20170701031  30.972165\n",
       "4  20170701041  30.972165"
      ]
     },
     "metadata": {},
     "output_type": "display_data"
    }
   ],
   "source": [
    "# Prepare Solution dataframe\n",
    "final['Vehicles'] = clf.predict(X_valid)\n",
    "display(final.head())\n",
    "\n",
    "\n",
    "final.to_csv(str(datetime.today().strftime('%Y-%m-%d'))+\"_FINAL.csv\", index = False)"
   ]
  },
  {
   "cell_type": "code",
   "execution_count": null,
   "id": "d29bbbc3",
   "metadata": {},
   "outputs": [],
   "source": []
  }
 ],
 "metadata": {
  "kernelspec": {
   "display_name": "Python 3 (ipykernel)",
   "language": "python",
   "name": "python3"
  },
  "language_info": {
   "codemirror_mode": {
    "name": "ipython",
    "version": 3
   },
   "file_extension": ".py",
   "mimetype": "text/x-python",
   "name": "python",
   "nbconvert_exporter": "python",
   "pygments_lexer": "ipython3",
   "version": "3.10.6"
  }
 },
 "nbformat": 4,
 "nbformat_minor": 5
}
